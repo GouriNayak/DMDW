{
  "nbformat": 4,
  "nbformat_minor": 0,
  "metadata": {
    "colab": {
      "name": "Assignment1.ipynb",
      "provenance": [],
      "collapsed_sections": [],
      "include_colab_link": true
    },
    "kernelspec": {
      "name": "python3",
      "display_name": "Python 3"
    }
  },
  "cells": [
    {
      "cell_type": "markdown",
      "metadata": {
        "id": "view-in-github",
        "colab_type": "text"
      },
      "source": [
        "<a href=\"https://colab.research.google.com/github/Srivatsha108/DMDW/blob/main/Assignment1.ipynb\" target=\"_parent\"><img src=\"https://colab.research.google.com/assets/colab-badge.svg\" alt=\"Open In Colab\"/></a>"
      ]
    },
    {
      "cell_type": "markdown",
      "metadata": {
        "id": "MZRKX1r2BIo7"
      },
      "source": [
        ""
      ]
    },
    {
      "cell_type": "markdown",
      "metadata": {
        "id": "1veapJkOBP0I"
      },
      "source": [
        "find Mean --Sample 1"
      ]
    },
    {
      "cell_type": "code",
      "metadata": {
        "id": "DjbK4lxqBVtC",
        "colab": {
          "base_uri": "https://localhost:8080/"
        },
        "outputId": "4f065405-0c66-4246-fdf7-a7fbe88561c4"
      },
      "source": [
        "(4 + 8 + 6 + 5 + 3 + 2 + 8 + 9 + 2 + 5) /10\n"
      ],
      "execution_count": null,
      "outputs": [
        {
          "output_type": "execute_result",
          "data": {
            "text/plain": [
              "5.2"
            ]
          },
          "metadata": {
            "tags": []
          },
          "execution_count": 1
        }
      ]
    },
    {
      "cell_type": "markdown",
      "metadata": {
        "id": "9RFqCgVxBb7Y"
      },
      "source": [
        "mean sample--2"
      ]
    },
    {
      "cell_type": "code",
      "metadata": {
        "id": "lq2vsy9dBgbR",
        "colab": {
          "base_uri": "https://localhost:8080/"
        },
        "outputId": "bdc2cb6a-320c-4b7e-9c56-440ca18f1be8"
      },
      "source": [
        "import statistics\n",
        "\n",
        "statistics.mean([4, 8, 6, 5, 3, 2, 8, 9, 2, 5])\n"
      ],
      "execution_count": null,
      "outputs": [
        {
          "output_type": "execute_result",
          "data": {
            "text/plain": [
              "5.2"
            ]
          },
          "metadata": {
            "tags": []
          },
          "execution_count": 2
        }
      ]
    },
    {
      "cell_type": "markdown",
      "metadata": {
        "id": "T8CbF-SWCgZf"
      },
      "source": [
        "Median Sample-1"
      ]
    },
    {
      "cell_type": "code",
      "metadata": {
        "id": "MegS5Ab2CxNj",
        "colab": {
          "base_uri": "https://localhost:8080/"
        },
        "outputId": "5c90fbe5-ba39-465e-a9e5-37a5296aaeb1"
      },
      "source": [
        "def my_median(sample):\n",
        "   n = len(sample)\n",
        "   index = n // 2\n",
        "  # Sample with an odd number of observations\n",
        "   if n % 2:\n",
        "        return sorted(sample)[index]\n",
        "  # Sample with an even number of observations\n",
        "        return sum(sorted(sample)[index - 1:index + 1]) / 2\n",
        "\n",
        "\n",
        "my_median([3, 5, 1, 4, 2])\n"
      ],
      "execution_count": null,
      "outputs": [
        {
          "output_type": "execute_result",
          "data": {
            "text/plain": [
              "3"
            ]
          },
          "metadata": {
            "tags": []
          },
          "execution_count": 3
        }
      ]
    },
    {
      "cell_type": "markdown",
      "metadata": {
        "id": "UqnY0yus8VVI"
      },
      "source": [
        "Median sample-2"
      ]
    },
    {
      "cell_type": "code",
      "metadata": {
        "id": "M_uYs4Yb8YLg",
        "colab": {
          "base_uri": "https://localhost:8080/"
        },
        "outputId": "002055d1-59d1-4fbc-d1f7-4019cecd6383"
      },
      "source": [
        "import statistics\n",
        "statistics.median([3, 5, 1, 4, 2])"
      ],
      "execution_count": null,
      "outputs": [
        {
          "output_type": "execute_result",
          "data": {
            "text/plain": [
              "3"
            ]
          },
          "metadata": {
            "tags": []
          },
          "execution_count": 4
        }
      ]
    },
    {
      "cell_type": "markdown",
      "metadata": {
        "id": "CLgTuh8x89aK"
      },
      "source": [
        "Mode sample-1"
      ]
    },
    {
      "cell_type": "code",
      "metadata": {
        "id": "uJGGCE_j8_sc",
        "colab": {
          "base_uri": "https://localhost:8080/"
        },
        "outputId": "87b9d8e5-7a09-4a3b-e2b4-39452db4c1a3"
      },
      "source": [
        "from collections import Counter\n",
        "\n",
        "def my_mode(sample):\n",
        "    c = Counter(sample)\n",
        "    return [k for k, v in c.items() if v == c.most_common(1)[0][1]]\n",
        "\n",
        "\n",
        "my_mode([\"male\", \"male\", \"female\", \"male\"])"
      ],
      "execution_count": null,
      "outputs": [
        {
          "output_type": "execute_result",
          "data": {
            "text/plain": [
              "['male']"
            ]
          },
          "metadata": {
            "tags": []
          },
          "execution_count": 5
        }
      ]
    },
    {
      "cell_type": "markdown",
      "metadata": {
        "id": "NBlM35mx9XAB"
      },
      "source": [
        "Mode sample 2"
      ]
    },
    {
      "cell_type": "code",
      "metadata": {
        "id": "TC6csxu09ZJb",
        "colab": {
          "base_uri": "https://localhost:8080/"
        },
        "outputId": "f0fea4f9-f2d6-4e45-9ce1-5bcace74f42b"
      },
      "source": [
        "import statistics\n",
        "\n",
        "statistics.mode([4, 1, 2, 2, 3, 5])"
      ],
      "execution_count": null,
      "outputs": [
        {
          "output_type": "execute_result",
          "data": {
            "text/plain": [
              "2"
            ]
          },
          "metadata": {
            "tags": []
          },
          "execution_count": 8
        }
      ]
    },
    {
      "cell_type": "markdown",
      "metadata": {
        "id": "bHYvVDaL-Xib"
      },
      "source": [
        "variance sample -1"
      ]
    },
    {
      "cell_type": "code",
      "metadata": {
        "id": "xfdgPwT0-hnY",
        "colab": {
          "base_uri": "https://localhost:8080/"
        },
        "outputId": "8e1b03fe-02f2-49e3-ce2b-7e2d1bdd5fbd"
      },
      "source": [
        "def variance(data):\n",
        "     # Number of observations\n",
        "     n = len(data)\n",
        "     # Mean of the data\n",
        "     mean = sum(data) / n\n",
        "     # Square deviations\n",
        "     deviations = [(x - mean) ** 2 for x in data]\n",
        "     # Variance\n",
        "     variance = sum(deviations) / n\n",
        "     return variance\n",
        "\n",
        "variance([4, 8, 6, 5, 3, 2, 8, 9, 2, 5])"
      ],
      "execution_count": null,
      "outputs": [
        {
          "output_type": "execute_result",
          "data": {
            "text/plain": [
              "5.76"
            ]
          },
          "metadata": {
            "tags": []
          },
          "execution_count": 9
        }
      ]
    },
    {
      "cell_type": "markdown",
      "metadata": {
        "id": "XyI2j4jt_cH9"
      },
      "source": [
        "Variance sample 2:-the statistics.pvariance() and statistics.variance() are the functions that we can use to calculate the variance"
      ]
    },
    {
      "cell_type": "code",
      "metadata": {
        "id": "dUinCdeV_iio",
        "colab": {
          "base_uri": "https://localhost:8080/"
        },
        "outputId": "82b6f3ea-296b-4ca3-c006-6ac88128f93b"
      },
      "source": [
        "import statistics\n",
        "\n",
        "statistics.pvariance([4, 8, 6, 5, 3, 2, 8, 9, 2, 5])"
      ],
      "execution_count": null,
      "outputs": [
        {
          "output_type": "execute_result",
          "data": {
            "text/plain": [
              "5.760000000000001"
            ]
          },
          "metadata": {
            "tags": []
          },
          "execution_count": 10
        }
      ]
    },
    {
      "cell_type": "markdown",
      "metadata": {
        "id": "buydEBC2_3qX"
      },
      "source": [
        "Standard Deviation sample-1"
      ]
    },
    {
      "cell_type": "code",
      "metadata": {
        "id": "givWeSJYAf5Q",
        "colab": {
          "base_uri": "https://localhost:8080/"
        },
        "outputId": "2976d9d0-b5d7-4d4f-ae65-9d43a7332079"
      },
      "source": [
        "import math\n",
        "\n",
        " # We relay on our previous implementation for the variance\n",
        "def variance(data, ddof=0):\n",
        "     n = len(data)\n",
        "     mean = sum(data) / n\n",
        "     return sum((x - mean) ** 2 for x in data) / (n - ddof)\n",
        "\n",
        "def stdev(data):\n",
        "     var = variance(data)\n",
        "     std_dev = math.sqrt(var)\n",
        "     return std_dev\n",
        "\n",
        "stdev([4, 8, 6, 5, 3, 2, 8, 9, 2, 5])"
      ],
      "execution_count": null,
      "outputs": [
        {
          "output_type": "execute_result",
          "data": {
            "text/plain": [
              "2.4"
            ]
          },
          "metadata": {
            "tags": []
          },
          "execution_count": 11
        }
      ]
    },
    {
      "cell_type": "markdown",
      "metadata": {
        "id": "b1gTdYUKBgRt"
      },
      "source": [
        "Standard deviation Sample-2"
      ]
    },
    {
      "cell_type": "code",
      "metadata": {
        "id": "b61iJdUMBj_T",
        "colab": {
          "base_uri": "https://localhost:8080/"
        },
        "outputId": "aa0271ca-980c-4778-9009-6efe2bd5c3d1"
      },
      "source": [
        "import statistics\n",
        "\n",
        "statistics.pstdev([4, 8, 6, 5, 3, 2, 8, 9, 2, 5])"
      ],
      "execution_count": null,
      "outputs": [
        {
          "output_type": "execute_result",
          "data": {
            "text/plain": [
              "2.4000000000000004"
            ]
          },
          "metadata": {
            "tags": []
          },
          "execution_count": 12
        }
      ]
    },
    {
      "cell_type": "code",
      "metadata": {
        "id": "t9hnCZQoMO8I"
      },
      "source": [
        ""
      ],
      "execution_count": null,
      "outputs": []
    }
  ]
}