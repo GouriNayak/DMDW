{
 "cells": [
  {
   "cell_type": "markdown",
   "metadata": {},
   "source": [
    "# 1. Calculate measures of central tendency without using library functions:"
   ]
  },
  {
   "cell_type": "code",
   "execution_count": 20,
   "metadata": {},
   "outputs": [
    {
     "name": "stdout",
     "output_type": "stream",
     "text": [
      "enter data 6 7 3 9 10 15\n",
      "the mean of entered data is:\n",
      "8.333333333333334\n",
      "the median of entered data is:\n",
      "8.0\n",
      "the mode of entered data is:\n",
      "3 6 7 9 10 15 \n",
      "the variance of entered data is:\n",
      "13.888888888888891\n",
      "the standard deviation of entered data is:\n",
      "3.72677996249965\n"
     ]
    }
   ],
   "source": [
    "import math\n",
    "l=list(map(int,input(\"enter data \").split()))\n",
    "print(\"the mean of entered data is:\")\n",
    "print(sum(l)/len(l))\n",
    "print(\"the median of entered data is:\")\n",
    "if len(l)%2!=0:\n",
    "    print(sorted(l)[len(l)//2])\n",
    "else:\n",
    "    print((sorted(l)[len(l)//2]+sorted(l)[len(l)//2-1])/2)\n",
    "print(\"the mode of entered data is:\")\n",
    "v=0\n",
    "for i in set(l):\n",
    "    if l.count(i)>v:\n",
    "        v=l.count(i)\n",
    "for i in set(l):\n",
    "    if l.count(i)==v:\n",
    "        print(i,end=\" \")\n",
    "print()        \n",
    "variance=sum((i-sum(l)/len(l))**2 for i in l)/len(l)\n",
    "print(\"the variance of entered data is:\")\n",
    "print(variance)\n",
    "print(\"the standard deviation of entered data is:\")\n",
    "print(math.sqrt(variance))"
   ]
  },
  {
   "cell_type": "markdown",
   "metadata": {},
   "source": [
    "#  2. Calculate measures of central tendency by using library functions:"
   ]
  },
  {
   "cell_type": "code",
   "execution_count": 23,
   "metadata": {},
   "outputs": [
    {
     "name": "stdout",
     "output_type": "stream",
     "text": [
      "enter data:6 7 3 9 10 15\n",
      "the mean of entered data is:\n",
      "8.333333333333334\n",
      "the median of entered data is:\n",
      "8.0\n",
      "the mode of entered data is:\n",
      "6 7 3 9 10 15\n",
      "the variance of entered data is:\n",
      "16.666666666666668\n",
      "the standard deviation of entered data is:\n",
      "4.08248290463863\n"
     ]
    }
   ],
   "source": [
    "import math\n",
    "import statistics\n",
    "l=list(map(int,input(\"enter data:\").split()))\n",
    "print(\"the mean of entered data is:\")\n",
    "print(statistics.mean(l))\n",
    "print(\"the median of entered data is:\")\n",
    "print(statistics.median(l))\n",
    "print(\"the mode of entered data is:\")\n",
    "if len(l)==len(set(l)):\n",
    "    print(*l)\n",
    "else:    \n",
    "    print(statistics.mode(l))\n",
    "print(\"the variance of entered data is:\")\n",
    "print(statistics.variance(l))\n",
    "print(\"the standard deviation of entered data is:\")\n",
    "print(statistics.stdev(l))\n"
   ]
  },
  {
   "cell_type": "code",
   "execution_count": 19,
   "metadata": {},
   "outputs": [
    {
     "name": "stdout",
     "output_type": "stream",
     "text": [
      "1 2 2 3 4 5\n",
      "The original list is : [1, 2, 2, 3, 4, 5]\n",
      "The variance of list is : 1.8055555555555554\n"
     ]
    }
   ],
   "source": [
    "# Python3 code to demonstrate working of \n",
    "# Variance of List \n",
    "# using loop + formula \n",
    "\n",
    "# initialize list \n",
    "test_list =list(map(int,input().split()))\n",
    "\n",
    "# printing original list \n",
    "print(\"The original list is : \" + str(test_list)) \n",
    "\n",
    "# Variance of List \n",
    "# using loop + formula \n",
    "mean = sum(test_list) / len(test_list) \n",
    "res = sum((i - mean) ** 2 for i in test_list) / len(test_list) \n",
    "\n",
    "# printing result \n",
    "print(\"The variance of list is : \" + str(res)) \n"
   ]
  },
  {
   "cell_type": "code",
   "execution_count": null,
   "metadata": {},
   "outputs": [],
   "source": []
  }
 ],
 "metadata": {
  "kernelspec": {
   "display_name": "Python 3",
   "language": "python",
   "name": "python3"
  },
  "language_info": {
   "codemirror_mode": {
    "name": "ipython",
    "version": 3
   },
   "file_extension": ".py",
   "mimetype": "text/x-python",
   "name": "python",
   "nbconvert_exporter": "python",
   "pygments_lexer": "ipython3",
   "version": "3.7.3"
  }
 },
 "nbformat": 4,
 "nbformat_minor": 2
}
